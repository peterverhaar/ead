{
 "cells": [
  {
   "cell_type": "markdown",
   "metadata": {},
   "source": [
    "# XSLT transformations\n",
    "\n",
    "The code below can transform an XML file into another XML file (i.e. an HTML file), on the basis of a stylesheet. \n",
    "\n",
    "* As the value of the variable `xml_filename`, you need to specify the name of the XML file you want to transform.\n",
    "* The variable `xsl_filename` specifies the stylesheet that you want to use during the transformation.\n",
    "* This code will create a new file on your computer, containing the result of the transformation. The value that you supply for the variable `result_filename` will be used as its file name. \n",
    "\n",
    "To run the code, place the cursor inside the code black and press [Shift] + [Enter]"
   ]
  },
  {
   "cell_type": "code",
   "execution_count": 1,
   "metadata": {},
   "outputs": [],
   "source": [
    "import os \n",
    "import re"
   ]
  },
  {
   "cell_type": "code",
   "execution_count": 8,
   "metadata": {},
   "outputs": [],
   "source": [
    "import lxml.etree as ET\n",
    "\n",
    "xml_filename = 'EFBO19101102.xml'\n",
    "xsl_filename = 'tei-html.xsl'\n",
    "result_filename = 'out.html'\n",
    "\n",
    "dom = ET.parse(xml_filename)\n",
    "xslt = ET.parse(xsl_filename)\n",
    "transform = ET.XSLT(xslt)\n",
    "newdom = transform(dom)\n",
    "\n",
    "out = open( result_filename , 'w', encoding = 'utf-8' )\n",
    "result = ET.tostring(newdom, pretty_print=True)\n",
    "\n",
    "result = result.decode(\"utf-8\")\n",
    "out.write( result )\n",
    "\n",
    "out.close()\n"
   ]
  },
  {
   "cell_type": "code",
   "execution_count": null,
   "metadata": {},
   "outputs": [],
   "source": [
    "dir = 'EAD'\n",
    "for file in os.listdir(dir):\n",
    "    if re.search( r'xml$' , file ):\n",
    "        xml_filename = os.path.join( dir, file )\n",
    "        xsl_filename = 'ead_ubl.xsl'\n",
    "        \n",
    "        result_filename = re.sub( 'xml$' , 'html' , file )\n",
    "\n",
    "        dom = ET.parse(xml_filename)\n",
    "        xslt = ET.parse(xsl_filename)\n",
    "        transform = ET.XSLT(xslt)\n",
    "        new_dom = transform(dom)\n",
    "\n",
    "        out = open( result_filename , 'w', encoding = 'utf-8' )\n",
    "        result = ET.tostring(new_dom, pretty_print=True)\n",
    "\n",
    "        result = result.decode(\"utf-8\")\n",
    "        out.write( result )\n",
    "\n",
    "        out.close()\n",
    "\n"
   ]
  }
 ],
 "metadata": {
  "kernelspec": {
   "display_name": "Python 3 (ipykernel)",
   "language": "python",
   "name": "python3"
  },
  "language_info": {
   "codemirror_mode": {
    "name": "ipython",
    "version": 3
   },
   "file_extension": ".py",
   "mimetype": "text/x-python",
   "name": "python",
   "nbconvert_exporter": "python",
   "pygments_lexer": "ipython3",
   "version": "3.7.9"
  }
 },
 "nbformat": 4,
 "nbformat_minor": 4
}
